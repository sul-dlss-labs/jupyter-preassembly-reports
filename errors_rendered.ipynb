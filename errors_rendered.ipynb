{
 "cells": [
  {
   "cell_type": "code",
   "execution_count": 2,
   "id": "7ae66a54-24fe-4635-a895-5d5420782f15",
   "metadata": {},
   "outputs": [],
   "source": [
    "import json"
   ]
  },
  {
   "cell_type": "code",
   "execution_count": 63,
   "id": "b555fc35-466c-4d86-af0d-1e246b14707a",
   "metadata": {},
   "outputs": [
    {
     "data": {
      "text/plain": [
       "{'rows': [{'druid': 'druid:rx212yq2993',\n",
       "   'errors': {},\n",
       "   'counts': {'total_size': 1530211,\n",
       "    'mimetypes': {'image/jpeg': 2},\n",
       "    'filename_no_extension': 0}},\n",
       "  {'druid': 'druid:xk191tr8945',\n",
       "   'errors': {'empty_object': True, 'missing_files': True},\n",
       "   'counts': {'total_size': 0, 'mimetypes': {}, 'filename_no_extension': 0}},\n",
       "  {'druid': 'druid:sz766yw0944',\n",
       "   'errors': {},\n",
       "   'counts': {'total_size': 1448949,\n",
       "    'mimetypes': {'image/jpeg': 2},\n",
       "    'filename_no_extension': 0}},\n",
       "  {'druid': 'druid:sh143xn6642',\n",
       "   'errors': {},\n",
       "   'counts': {'total_size': 3308587,\n",
       "    'mimetypes': {'image/jpeg': 2},\n",
       "    'filename_no_extension': 0}},\n",
       "  {'druid': 'druid:xg322sp9596',\n",
       "   'errors': {'dupes': True},\n",
       "   'counts': {'total_size': 6953821,\n",
       "    'mimetypes': {'image/jpeg': 6},\n",
       "    'filename_no_extension': 0}},\n",
       "  {'druid': 'druid:gn012km8355',\n",
       "   'errors': {},\n",
       "   'counts': {'total_size': 2975415,\n",
       "    'mimetypes': {'image/jpeg': 2},\n",
       "    'filename_no_extension': 0}},\n",
       "  {'druid': 'druid:oo000oo0000',\n",
       "   'errors': {'missing_files': True},\n",
       "   'counts': {'total_size': 666,\n",
       "    'mimetypes': {'image/jpeg': 1},\n",
       "    'filename_no_extension': 0}}],\n",
       " 'summary': {'objects_with_error': 3,\n",
       "  'mimetypes': {'image/jpeg': 1320},\n",
       "  'start_time': '2021-10-18 12:03:45 -0700',\n",
       "  'total_size': 1108060670}}"
      ]
     },
     "execution_count": 63,
     "metadata": {},
     "output_type": "execute_result"
    }
   ],
   "source": [
    "with open(\"./reports/example.json\", 'r') as f:\n",
    "    data = json.load(f)\n",
    "data"
   ]
  },
  {
   "cell_type": "code",
   "execution_count": 64,
   "id": "867d7c40-0d4e-43cf-b8e9-19625f3ef5f2",
   "metadata": {},
   "outputs": [
    {
     "data": {
      "text/plain": [
       "[{'druid': 'druid:rx212yq2993',\n",
       "  'errors': {},\n",
       "  'counts': {'total_size': 1530211,\n",
       "   'mimetypes': {'image/jpeg': 2},\n",
       "   'filename_no_extension': 0}},\n",
       " {'druid': 'druid:xk191tr8945',\n",
       "  'errors': {'empty_object': True, 'missing_files': True},\n",
       "  'counts': {'total_size': 0, 'mimetypes': {}, 'filename_no_extension': 0}},\n",
       " {'druid': 'druid:sz766yw0944',\n",
       "  'errors': {},\n",
       "  'counts': {'total_size': 1448949,\n",
       "   'mimetypes': {'image/jpeg': 2},\n",
       "   'filename_no_extension': 0}},\n",
       " {'druid': 'druid:sh143xn6642',\n",
       "  'errors': {},\n",
       "  'counts': {'total_size': 3308587,\n",
       "   'mimetypes': {'image/jpeg': 2},\n",
       "   'filename_no_extension': 0}},\n",
       " {'druid': 'druid:xg322sp9596',\n",
       "  'errors': {'dupes': True},\n",
       "  'counts': {'total_size': 6953821,\n",
       "   'mimetypes': {'image/jpeg': 6},\n",
       "   'filename_no_extension': 0}},\n",
       " {'druid': 'druid:gn012km8355',\n",
       "  'errors': {},\n",
       "  'counts': {'total_size': 2975415,\n",
       "   'mimetypes': {'image/jpeg': 2},\n",
       "   'filename_no_extension': 0}},\n",
       " {'druid': 'druid:oo000oo0000',\n",
       "  'errors': {'missing_files': True},\n",
       "  'counts': {'total_size': 666,\n",
       "   'mimetypes': {'image/jpeg': 1},\n",
       "   'filename_no_extension': 0}}]"
      ]
     },
     "execution_count": 64,
     "metadata": {},
     "output_type": "execute_result"
    }
   ],
   "source": [
    "rows = data.pop('rows')\n",
    "rows"
   ]
  },
  {
   "cell_type": "code",
   "execution_count": 65,
   "id": "9018dbf0-d470-422a-a7c9-66f036f7fb6f",
   "metadata": {},
   "outputs": [
    {
     "data": {
      "text/plain": [
       "{'objects_with_error': 3,\n",
       " 'mimetypes': {'image/jpeg': 1320},\n",
       " 'start_time': '2021-10-18 12:03:45 -0700',\n",
       " 'total_size': 1108060670,\n",
       " 'total number of objects': 7}"
      ]
     },
     "execution_count": 65,
     "metadata": {},
     "output_type": "execute_result"
    }
   ],
   "source": [
    "summary = data.pop('summary')\n",
    "summary['total number of objects'] = len(rows)\n",
    "summary"
   ]
  },
  {
   "cell_type": "code",
   "execution_count": 205,
   "id": "53ae0320-afb2-4183-bcca-f05ae01ffede",
   "metadata": {},
   "outputs": [],
   "source": [
    "import pandas as pd"
   ]
  },
  {
   "cell_type": "code",
   "execution_count": 66,
   "id": "3fe00952-3a17-4d4b-ad58-6ea7e3a538b5",
   "metadata": {},
   "outputs": [
    {
     "data": {
      "text/html": [
       "<div>\n",
       "<style scoped>\n",
       "    .dataframe tbody tr th:only-of-type {\n",
       "        vertical-align: middle;\n",
       "    }\n",
       "\n",
       "    .dataframe tbody tr th {\n",
       "        vertical-align: top;\n",
       "    }\n",
       "\n",
       "    .dataframe thead th {\n",
       "        text-align: right;\n",
       "    }\n",
       "</style>\n",
       "<table border=\"1\" class=\"dataframe\">\n",
       "  <thead>\n",
       "    <tr style=\"text-align: right;\">\n",
       "      <th></th>\n",
       "      <th>objects_with_error</th>\n",
       "      <th>mimetypes</th>\n",
       "      <th>start_time</th>\n",
       "      <th>total_size</th>\n",
       "      <th>total number of objects</th>\n",
       "    </tr>\n",
       "  </thead>\n",
       "  <tbody>\n",
       "    <tr>\n",
       "      <th>image/jpeg</th>\n",
       "      <td>3</td>\n",
       "      <td>1320</td>\n",
       "      <td>2021-10-18 12:03:45 -0700</td>\n",
       "      <td>1108060670</td>\n",
       "      <td>7</td>\n",
       "    </tr>\n",
       "  </tbody>\n",
       "</table>\n",
       "</div>"
      ],
      "text/plain": [
       "            objects_with_error  mimetypes                 start_time  \\\n",
       "image/jpeg                   3       1320  2021-10-18 12:03:45 -0700   \n",
       "\n",
       "            total_size  total number of objects  \n",
       "image/jpeg  1108060670                        7  "
      ]
     },
     "execution_count": 66,
     "metadata": {},
     "output_type": "execute_result"
    }
   ],
   "source": [
    "dfSummary = pd.DataFrame(summary)\n",
    "dfSummary"
   ]
  },
  {
   "cell_type": "code",
   "execution_count": 67,
   "id": "aabfdef4-0120-4a80-aea6-8bd2b57774fd",
   "metadata": {},
   "outputs": [
    {
     "data": {
      "text/html": [
       "<div>\n",
       "<style scoped>\n",
       "    .dataframe tbody tr th:only-of-type {\n",
       "        vertical-align: middle;\n",
       "    }\n",
       "\n",
       "    .dataframe tbody tr th {\n",
       "        vertical-align: top;\n",
       "    }\n",
       "\n",
       "    .dataframe thead th {\n",
       "        text-align: right;\n",
       "    }\n",
       "</style>\n",
       "<table border=\"1\" class=\"dataframe\">\n",
       "  <thead>\n",
       "    <tr style=\"text-align: right;\">\n",
       "      <th></th>\n",
       "      <th>druid</th>\n",
       "      <th>errors</th>\n",
       "      <th>counts</th>\n",
       "    </tr>\n",
       "  </thead>\n",
       "  <tbody>\n",
       "    <tr>\n",
       "      <th>0</th>\n",
       "      <td>druid:rx212yq2993</td>\n",
       "      <td>{}</td>\n",
       "      <td>{'total_size': 1530211, 'mimetypes': {'image/j...</td>\n",
       "    </tr>\n",
       "    <tr>\n",
       "      <th>1</th>\n",
       "      <td>druid:xk191tr8945</td>\n",
       "      <td>{'empty_object': True, 'missing_files': True}</td>\n",
       "      <td>{'total_size': 0, 'mimetypes': {}, 'filename_n...</td>\n",
       "    </tr>\n",
       "    <tr>\n",
       "      <th>2</th>\n",
       "      <td>druid:sz766yw0944</td>\n",
       "      <td>{}</td>\n",
       "      <td>{'total_size': 1448949, 'mimetypes': {'image/j...</td>\n",
       "    </tr>\n",
       "    <tr>\n",
       "      <th>3</th>\n",
       "      <td>druid:sh143xn6642</td>\n",
       "      <td>{}</td>\n",
       "      <td>{'total_size': 3308587, 'mimetypes': {'image/j...</td>\n",
       "    </tr>\n",
       "    <tr>\n",
       "      <th>4</th>\n",
       "      <td>druid:xg322sp9596</td>\n",
       "      <td>{'dupes': True}</td>\n",
       "      <td>{'total_size': 6953821, 'mimetypes': {'image/j...</td>\n",
       "    </tr>\n",
       "    <tr>\n",
       "      <th>5</th>\n",
       "      <td>druid:gn012km8355</td>\n",
       "      <td>{}</td>\n",
       "      <td>{'total_size': 2975415, 'mimetypes': {'image/j...</td>\n",
       "    </tr>\n",
       "    <tr>\n",
       "      <th>6</th>\n",
       "      <td>druid:oo000oo0000</td>\n",
       "      <td>{'missing_files': True}</td>\n",
       "      <td>{'total_size': 666, 'mimetypes': {'image/jpeg'...</td>\n",
       "    </tr>\n",
       "  </tbody>\n",
       "</table>\n",
       "</div>"
      ],
      "text/plain": [
       "               druid                                         errors  \\\n",
       "0  druid:rx212yq2993                                             {}   \n",
       "1  druid:xk191tr8945  {'empty_object': True, 'missing_files': True}   \n",
       "2  druid:sz766yw0944                                             {}   \n",
       "3  druid:sh143xn6642                                             {}   \n",
       "4  druid:xg322sp9596                                {'dupes': True}   \n",
       "5  druid:gn012km8355                                             {}   \n",
       "6  druid:oo000oo0000                        {'missing_files': True}   \n",
       "\n",
       "                                              counts  \n",
       "0  {'total_size': 1530211, 'mimetypes': {'image/j...  \n",
       "1  {'total_size': 0, 'mimetypes': {}, 'filename_n...  \n",
       "2  {'total_size': 1448949, 'mimetypes': {'image/j...  \n",
       "3  {'total_size': 3308587, 'mimetypes': {'image/j...  \n",
       "4  {'total_size': 6953821, 'mimetypes': {'image/j...  \n",
       "5  {'total_size': 2975415, 'mimetypes': {'image/j...  \n",
       "6  {'total_size': 666, 'mimetypes': {'image/jpeg'...  "
      ]
     },
     "execution_count": 67,
     "metadata": {},
     "output_type": "execute_result"
    }
   ],
   "source": [
    "dfRows = pd.DataFrame(rows)\n",
    "dfRows"
   ]
  },
  {
   "cell_type": "code",
   "execution_count": 75,
   "id": "38555f9a-e9a7-46d8-aac6-856b35f0b5c9",
   "metadata": {},
   "outputs": [
    {
     "data": {
      "text/html": [
       "<div>\n",
       "<style scoped>\n",
       "    .dataframe tbody tr th:only-of-type {\n",
       "        vertical-align: middle;\n",
       "    }\n",
       "\n",
       "    .dataframe tbody tr th {\n",
       "        vertical-align: top;\n",
       "    }\n",
       "\n",
       "    .dataframe thead th {\n",
       "        text-align: right;\n",
       "    }\n",
       "</style>\n",
       "<table border=\"1\" class=\"dataframe\">\n",
       "  <thead>\n",
       "    <tr style=\"text-align: right;\">\n",
       "      <th></th>\n",
       "      <th>druid</th>\n",
       "      <th>counts.total_size</th>\n",
       "      <th>counts.mimetypes.image/jpeg</th>\n",
       "      <th>counts.filename_no_extension</th>\n",
       "      <th>errors.empty_object</th>\n",
       "      <th>errors.missing_files</th>\n",
       "      <th>errors.dupes</th>\n",
       "    </tr>\n",
       "  </thead>\n",
       "  <tbody>\n",
       "    <tr>\n",
       "      <th>0</th>\n",
       "      <td>druid:rx212yq2993</td>\n",
       "      <td>1530211</td>\n",
       "      <td>2.0</td>\n",
       "      <td>0</td>\n",
       "      <td>NaN</td>\n",
       "      <td>NaN</td>\n",
       "      <td>NaN</td>\n",
       "    </tr>\n",
       "    <tr>\n",
       "      <th>1</th>\n",
       "      <td>druid:xk191tr8945</td>\n",
       "      <td>0</td>\n",
       "      <td>NaN</td>\n",
       "      <td>0</td>\n",
       "      <td>True</td>\n",
       "      <td>True</td>\n",
       "      <td>NaN</td>\n",
       "    </tr>\n",
       "    <tr>\n",
       "      <th>2</th>\n",
       "      <td>druid:sz766yw0944</td>\n",
       "      <td>1448949</td>\n",
       "      <td>2.0</td>\n",
       "      <td>0</td>\n",
       "      <td>NaN</td>\n",
       "      <td>NaN</td>\n",
       "      <td>NaN</td>\n",
       "    </tr>\n",
       "    <tr>\n",
       "      <th>3</th>\n",
       "      <td>druid:sh143xn6642</td>\n",
       "      <td>3308587</td>\n",
       "      <td>2.0</td>\n",
       "      <td>0</td>\n",
       "      <td>NaN</td>\n",
       "      <td>NaN</td>\n",
       "      <td>NaN</td>\n",
       "    </tr>\n",
       "    <tr>\n",
       "      <th>4</th>\n",
       "      <td>druid:xg322sp9596</td>\n",
       "      <td>6953821</td>\n",
       "      <td>6.0</td>\n",
       "      <td>0</td>\n",
       "      <td>NaN</td>\n",
       "      <td>NaN</td>\n",
       "      <td>True</td>\n",
       "    </tr>\n",
       "    <tr>\n",
       "      <th>5</th>\n",
       "      <td>druid:gn012km8355</td>\n",
       "      <td>2975415</td>\n",
       "      <td>2.0</td>\n",
       "      <td>0</td>\n",
       "      <td>NaN</td>\n",
       "      <td>NaN</td>\n",
       "      <td>NaN</td>\n",
       "    </tr>\n",
       "    <tr>\n",
       "      <th>6</th>\n",
       "      <td>druid:oo000oo0000</td>\n",
       "      <td>666</td>\n",
       "      <td>1.0</td>\n",
       "      <td>0</td>\n",
       "      <td>NaN</td>\n",
       "      <td>True</td>\n",
       "      <td>NaN</td>\n",
       "    </tr>\n",
       "  </tbody>\n",
       "</table>\n",
       "</div>"
      ],
      "text/plain": [
       "               druid  counts.total_size  counts.mimetypes.image/jpeg  \\\n",
       "0  druid:rx212yq2993            1530211                          2.0   \n",
       "1  druid:xk191tr8945                  0                          NaN   \n",
       "2  druid:sz766yw0944            1448949                          2.0   \n",
       "3  druid:sh143xn6642            3308587                          2.0   \n",
       "4  druid:xg322sp9596            6953821                          6.0   \n",
       "5  druid:gn012km8355            2975415                          2.0   \n",
       "6  druid:oo000oo0000                666                          1.0   \n",
       "\n",
       "   counts.filename_no_extension errors.empty_object errors.missing_files  \\\n",
       "0                             0                 NaN                  NaN   \n",
       "1                             0                True                 True   \n",
       "2                             0                 NaN                  NaN   \n",
       "3                             0                 NaN                  NaN   \n",
       "4                             0                 NaN                  NaN   \n",
       "5                             0                 NaN                  NaN   \n",
       "6                             0                 NaN                 True   \n",
       "\n",
       "  errors.dupes  \n",
       "0          NaN  \n",
       "1          NaN  \n",
       "2          NaN  \n",
       "3          NaN  \n",
       "4         True  \n",
       "5          NaN  \n",
       "6          NaN  "
      ]
     },
     "execution_count": 75,
     "metadata": {},
     "output_type": "execute_result"
    }
   ],
   "source": [
    "with open(\"./reports/example.json\", 'r') as f:\n",
    "    dfRowsFlattened = pd.json_normalize(json.load(f), 'rows')\n",
    "dfRowsFlattened"
   ]
  },
  {
   "cell_type": "code",
   "execution_count": 76,
   "id": "6bd4559f-4452-4d03-adf5-cbe515df54c8",
   "metadata": {},
   "outputs": [
    {
     "data": {
      "text/html": [
       "<div>\n",
       "<style scoped>\n",
       "    .dataframe tbody tr th:only-of-type {\n",
       "        vertical-align: middle;\n",
       "    }\n",
       "\n",
       "    .dataframe tbody tr th {\n",
       "        vertical-align: top;\n",
       "    }\n",
       "\n",
       "    .dataframe thead th {\n",
       "        text-align: right;\n",
       "    }\n",
       "</style>\n",
       "<table border=\"1\" class=\"dataframe\">\n",
       "  <thead>\n",
       "    <tr style=\"text-align: right;\">\n",
       "      <th></th>\n",
       "      <th>counts.total_size</th>\n",
       "      <th>counts.mimetypes.image/jpeg</th>\n",
       "      <th>counts.filename_no_extension</th>\n",
       "      <th>errors.empty_object</th>\n",
       "      <th>errors.missing_files</th>\n",
       "      <th>errors.dupes</th>\n",
       "    </tr>\n",
       "    <tr>\n",
       "      <th>druid</th>\n",
       "      <th></th>\n",
       "      <th></th>\n",
       "      <th></th>\n",
       "      <th></th>\n",
       "      <th></th>\n",
       "      <th></th>\n",
       "    </tr>\n",
       "  </thead>\n",
       "  <tbody>\n",
       "    <tr>\n",
       "      <th>druid:rx212yq2993</th>\n",
       "      <td>1530211</td>\n",
       "      <td>2.0</td>\n",
       "      <td>0</td>\n",
       "      <td>NaN</td>\n",
       "      <td>NaN</td>\n",
       "      <td>NaN</td>\n",
       "    </tr>\n",
       "    <tr>\n",
       "      <th>druid:xk191tr8945</th>\n",
       "      <td>0</td>\n",
       "      <td>NaN</td>\n",
       "      <td>0</td>\n",
       "      <td>True</td>\n",
       "      <td>True</td>\n",
       "      <td>NaN</td>\n",
       "    </tr>\n",
       "    <tr>\n",
       "      <th>druid:sz766yw0944</th>\n",
       "      <td>1448949</td>\n",
       "      <td>2.0</td>\n",
       "      <td>0</td>\n",
       "      <td>NaN</td>\n",
       "      <td>NaN</td>\n",
       "      <td>NaN</td>\n",
       "    </tr>\n",
       "    <tr>\n",
       "      <th>druid:sh143xn6642</th>\n",
       "      <td>3308587</td>\n",
       "      <td>2.0</td>\n",
       "      <td>0</td>\n",
       "      <td>NaN</td>\n",
       "      <td>NaN</td>\n",
       "      <td>NaN</td>\n",
       "    </tr>\n",
       "    <tr>\n",
       "      <th>druid:xg322sp9596</th>\n",
       "      <td>6953821</td>\n",
       "      <td>6.0</td>\n",
       "      <td>0</td>\n",
       "      <td>NaN</td>\n",
       "      <td>NaN</td>\n",
       "      <td>True</td>\n",
       "    </tr>\n",
       "    <tr>\n",
       "      <th>druid:gn012km8355</th>\n",
       "      <td>2975415</td>\n",
       "      <td>2.0</td>\n",
       "      <td>0</td>\n",
       "      <td>NaN</td>\n",
       "      <td>NaN</td>\n",
       "      <td>NaN</td>\n",
       "    </tr>\n",
       "    <tr>\n",
       "      <th>druid:oo000oo0000</th>\n",
       "      <td>666</td>\n",
       "      <td>1.0</td>\n",
       "      <td>0</td>\n",
       "      <td>NaN</td>\n",
       "      <td>True</td>\n",
       "      <td>NaN</td>\n",
       "    </tr>\n",
       "  </tbody>\n",
       "</table>\n",
       "</div>"
      ],
      "text/plain": [
       "                   counts.total_size  counts.mimetypes.image/jpeg  \\\n",
       "druid                                                               \n",
       "druid:rx212yq2993            1530211                          2.0   \n",
       "druid:xk191tr8945                  0                          NaN   \n",
       "druid:sz766yw0944            1448949                          2.0   \n",
       "druid:sh143xn6642            3308587                          2.0   \n",
       "druid:xg322sp9596            6953821                          6.0   \n",
       "druid:gn012km8355            2975415                          2.0   \n",
       "druid:oo000oo0000                666                          1.0   \n",
       "\n",
       "                   counts.filename_no_extension errors.empty_object  \\\n",
       "druid                                                                 \n",
       "druid:rx212yq2993                             0                 NaN   \n",
       "druid:xk191tr8945                             0                True   \n",
       "druid:sz766yw0944                             0                 NaN   \n",
       "druid:sh143xn6642                             0                 NaN   \n",
       "druid:xg322sp9596                             0                 NaN   \n",
       "druid:gn012km8355                             0                 NaN   \n",
       "druid:oo000oo0000                             0                 NaN   \n",
       "\n",
       "                  errors.missing_files errors.dupes  \n",
       "druid                                                \n",
       "druid:rx212yq2993                  NaN          NaN  \n",
       "druid:xk191tr8945                 True          NaN  \n",
       "druid:sz766yw0944                  NaN          NaN  \n",
       "druid:sh143xn6642                  NaN          NaN  \n",
       "druid:xg322sp9596                  NaN         True  \n",
       "druid:gn012km8355                  NaN          NaN  \n",
       "druid:oo000oo0000                 True          NaN  "
      ]
     },
     "execution_count": 76,
     "metadata": {},
     "output_type": "execute_result"
    }
   ],
   "source": [
    "dfRowsFlattened.set_index('druid', inplace=True)\n",
    "dfRowsFlattened"
   ]
  },
  {
   "cell_type": "code",
   "execution_count": 206,
   "id": "68b869a5-beea-4a73-951b-24afc9762065",
   "metadata": {},
   "outputs": [
    {
     "ename": "TypeError",
     "evalue": "'list' object is not callable",
     "output_type": "error",
     "traceback": [
      "\u001b[0;31m---------------------------------------------------------------------------\u001b[0m",
      "\u001b[0;31mTypeError\u001b[0m                                 Traceback (most recent call last)",
      "\u001b[0;32m/var/folders/wl/slny2d3n77d3gc1hd_j912hr0000gq/T/ipykernel_62483/3281768308.py\u001b[0m in \u001b[0;36m<module>\u001b[0;34m\u001b[0m\n\u001b[1;32m      3\u001b[0m     \u001b[0;34m\"druids\"\u001b[0m\u001b[0;34m:\u001b[0m \u001b[0;34m[\u001b[0m\u001b[0;34m\"a\"\u001b[0m\u001b[0;34m,\u001b[0m \u001b[0;34m\"b\"\u001b[0m\u001b[0;34m]\u001b[0m\u001b[0;34m\u001b[0m\u001b[0;34m\u001b[0m\u001b[0m\n\u001b[1;32m      4\u001b[0m }\n\u001b[0;32m----> 5\u001b[0;31m \u001b[0mdfErrors\u001b[0m \u001b[0;34m=\u001b[0m \u001b[0mpd\u001b[0m\u001b[0;34m.\u001b[0m\u001b[0mDataFrame\u001b[0m\u001b[0;34m(\u001b[0m\u001b[0merr_cols\u001b[0m\u001b[0;34m)\u001b[0m\u001b[0;34m\u001b[0m\u001b[0;34m\u001b[0m\u001b[0m\n\u001b[0m\u001b[1;32m      6\u001b[0m \u001b[0mdfErrors\u001b[0m\u001b[0;34m\u001b[0m\u001b[0;34m\u001b[0m\u001b[0m\n",
      "\u001b[0;31mTypeError\u001b[0m: 'list' object is not callable"
     ]
    }
   ],
   "source": [
    "err_cols = {\n",
    "    \"error\": [\"fake\", \"fake\"],\n",
    "    \"druids\": [\"a\", \"b\"]\n",
    "}\n",
    "dfErrors = pd.DataFrame(err_cols)\n",
    "dfErrors"
   ]
  },
  {
   "cell_type": "code",
   "execution_count": 189,
   "id": "41c091aa-471c-4b0f-b4c8-f4f5e77180e4",
   "metadata": {},
   "outputs": [
    {
     "data": {
      "text/plain": [
       "['foo', 'bar']"
      ]
     },
     "execution_count": 189,
     "metadata": {},
     "output_type": "execute_result"
    }
   ],
   "source": [
    "errors = []\n",
    "errors.append('foo')\n",
    "errors.append('bar')\n",
    "errors"
   ]
  },
  {
   "cell_type": "code",
   "execution_count": 192,
   "id": "d1c4180b-143b-454f-9e36-54bedbb7363d",
   "metadata": {},
   "outputs": [
    {
     "data": {
      "text/plain": [
       "{'a': ['b'], 'c': ['d', 'e']}"
      ]
     },
     "execution_count": 192,
     "metadata": {},
     "output_type": "execute_result"
    }
   ],
   "source": [
    "d = {}\n",
    "d['a'] = ['b']\n",
    "d['c'] = ['d', 'e']\n",
    "d"
   ]
  },
  {
   "cell_type": "code",
   "execution_count": null,
   "id": "9d4034ac-cba7-4600-9859-1055a5c115b0",
   "metadata": {},
   "outputs": [],
   "source": []
  },
  {
   "cell_type": "code",
   "execution_count": null,
   "id": "7be5fcc1-ff26-4d5a-9f61-03fb0d58edf3",
   "metadata": {},
   "outputs": [],
   "source": []
  },
  {
   "cell_type": "code",
   "execution_count": 204,
   "id": "b9e67fa7-1bde-43be-9e6c-dd261c68df03",
   "metadata": {},
   "outputs": [
    {
     "ename": "TypeError",
     "evalue": "'list' object is not callable",
     "output_type": "error",
     "traceback": [
      "\u001b[0;31m---------------------------------------------------------------------------\u001b[0m",
      "\u001b[0;31mTypeError\u001b[0m                                 Traceback (most recent call last)",
      "\u001b[0;32m/var/folders/wl/slny2d3n77d3gc1hd_j912hr0000gq/T/ipykernel_62483/258397988.py\u001b[0m in \u001b[0;36m<module>\u001b[0;34m\u001b[0m\n\u001b[1;32m     19\u001b[0m         \u001b[0merrs2druids\u001b[0m\u001b[0;34m[\u001b[0m\u001b[0merr\u001b[0m\u001b[0;34m]\u001b[0m \u001b[0;34m=\u001b[0m \u001b[0merr_druids\u001b[0m\u001b[0;34m\u001b[0m\u001b[0;34m\u001b[0m\u001b[0m\n\u001b[1;32m     20\u001b[0m \u001b[0merrs2druids\u001b[0m\u001b[0;34m\u001b[0m\u001b[0;34m\u001b[0m\u001b[0m\n\u001b[0;32m---> 21\u001b[0;31m \u001b[0mdfErrors\u001b[0m \u001b[0;34m=\u001b[0m \u001b[0mpd\u001b[0m\u001b[0;34m.\u001b[0m\u001b[0mDataFrame\u001b[0m\u001b[0;34m(\u001b[0m\u001b[0merrs2druids\u001b[0m\u001b[0;34m)\u001b[0m\u001b[0;34m\u001b[0m\u001b[0;34m\u001b[0m\u001b[0m\n\u001b[0m\u001b[1;32m     22\u001b[0m \u001b[0;31m# dfErrors.set_index('error', inplace=True)\u001b[0m\u001b[0;34m\u001b[0m\u001b[0;34m\u001b[0m\u001b[0m\n\u001b[1;32m     23\u001b[0m \u001b[0;31m# dfErrors\u001b[0m\u001b[0;34m\u001b[0m\u001b[0;34m\u001b[0m\u001b[0m\n",
      "\u001b[0;31mTypeError\u001b[0m: 'list' object is not callable"
     ]
    }
   ],
   "source": [
    "possible_errors = [\n",
    "    'dor_connection_error', \n",
    "    'dupes', \n",
    "    'empty_files', \n",
    "    'empty_object', \n",
    "    'filename_no_extension',  \n",
    "    'item_not_registered', \n",
    "    'missing_files',\n",
    "    'empty_manifest',\n",
    "    'files_found_mismatch',\n",
    "    'missing_media_container_name_or_manifest'\n",
    "     ]\n",
    "errs2druids = {}\n",
    "for err in possible_errors:\n",
    "    err_col = \"errors.% s\" % err\n",
    "    if ((err_col) in dfRowsFlattened.columns):\n",
    "        err_druids = (dfRowsFlattened[(dfRowsFlattened[err_col] == True)]).index.tolist()\n",
    "        # errs2druids[err] = ','.join(err_druids)\n",
    "        errs2druids[err] = err_druids\n",
    "errs2druids\n",
    "dfErrors = pd.DataFrame(errs2druids)\n",
    "# dfErrors.set_index('error', inplace=True)\n",
    "# dfErrors"
   ]
  },
  {
   "cell_type": "code",
   "execution_count": 174,
   "id": "7e152828-54aa-4ec5-a289-c588c152ae64",
   "metadata": {},
   "outputs": [],
   "source": [
    "if 'errors.empty_files' in dfRowsFlattened.columns:\n",
    "    print(\"yes\")"
   ]
  },
  {
   "cell_type": "code",
   "execution_count": 96,
   "id": "1e87c41a-140b-4eaf-9e7d-e86ee6338fe5",
   "metadata": {},
   "outputs": [
    {
     "data": {
      "text/plain": [
       "['druid:xg322sp9596']"
      ]
     },
     "execution_count": 96,
     "metadata": {},
     "output_type": "execute_result"
    }
   ],
   "source": [
    "dupes = dfRowsFlattened[(dfRowsFlattened['errors.dupes'] == True)].index.tolist()\n",
    "dupes"
   ]
  },
  {
   "cell_type": "code",
   "execution_count": 107,
   "id": "3d0c9ced-d9f4-4990-876b-417947376949",
   "metadata": {},
   "outputs": [
    {
     "ename": "AttributeError",
     "evalue": "'PandasArray' object has no attribute 'contains'",
     "output_type": "error",
     "traceback": [
      "\u001b[0;31m---------------------------------------------------------------------------\u001b[0m",
      "\u001b[0;31mAttributeError\u001b[0m                            Traceback (most recent call last)",
      "\u001b[0;32m/var/folders/wl/slny2d3n77d3gc1hd_j912hr0000gq/T/ipykernel_62483/1524262634.py\u001b[0m in \u001b[0;36m<module>\u001b[0;34m\u001b[0m\n\u001b[0;32m----> 1\u001b[0;31m \u001b[0mdfRowsFlattened\u001b[0m\u001b[0;34m.\u001b[0m\u001b[0mkeys\u001b[0m\u001b[0;34m(\u001b[0m\u001b[0;34m)\u001b[0m\u001b[0;34m.\u001b[0m\u001b[0marray\u001b[0m\u001b[0;34m.\u001b[0m\u001b[0mcontains\u001b[0m\u001b[0;34m(\u001b[0m\u001b[0;34m'errors.dupes'\u001b[0m\u001b[0;34m)\u001b[0m\u001b[0;34m\u001b[0m\u001b[0;34m\u001b[0m\u001b[0m\n\u001b[0m",
      "\u001b[0;31mAttributeError\u001b[0m: 'PandasArray' object has no attribute 'contains'"
     ]
    }
   ],
   "source": [
    "dfRowsFlattened.keys().array.contains('errors.dupes')"
   ]
  },
  {
   "cell_type": "code",
   "execution_count": 113,
   "id": "be0b6c80-693c-4765-90d6-e46bb543071e",
   "metadata": {},
   "outputs": [
    {
     "data": {
      "text/plain": [
       "[]"
      ]
     },
     "execution_count": 113,
     "metadata": {},
     "output_type": "execute_result"
    }
   ],
   "source": [
    "if 'errors.empty_files' in dfRowsFlattened.columns:\n",
    "    emptyFiles = dfRowsFlattened[(dfRowsFlattened['errors.empty_files'] == True)].index.tolist()\n",
    "else:\n",
    "    emptyFiles = []\n",
    "emptyFiles"
   ]
  },
  {
   "cell_type": "code",
   "execution_count": 90,
   "id": "d773c137-f151-42ad-af8c-8cfa804dd278",
   "metadata": {},
   "outputs": [
    {
     "data": {
      "text/plain": [
       "['druid:xk191tr8945']"
      ]
     },
     "execution_count": 90,
     "metadata": {},
     "output_type": "execute_result"
    }
   ],
   "source": [
    "emptyObjects = dfRowsFlattened[(dfRowsFlattened['errors.empty_object'] == True)].index.tolist()\n",
    "emptyObjects"
   ]
  },
  {
   "cell_type": "code",
   "execution_count": 92,
   "id": "b1e6d751-061a-4b44-b62a-0dae42b0e26c",
   "metadata": {},
   "outputs": [
    {
     "data": {
      "text/plain": [
       "['druid:xk191tr8945', 'druid:oo000oo0000']"
      ]
     },
     "execution_count": 92,
     "metadata": {},
     "output_type": "execute_result"
    }
   ],
   "source": [
    "missingFiles = dfRowsFlattened[(dfRowsFlattened['errors.missing_files'] == True)].index.tolist()\n",
    "missingFiles"
   ]
  },
  {
   "cell_type": "code",
   "execution_count": 95,
   "id": "dfc361d7-6093-4a64-8362-ef223d11312f",
   "metadata": {},
   "outputs": [
    {
     "data": {
      "text/plain": [
       "['druid:xg322sp9596']"
      ]
     },
     "execution_count": 95,
     "metadata": {},
     "output_type": "execute_result"
    }
   ],
   "source": []
  },
  {
   "cell_type": "code",
   "execution_count": 146,
   "id": "709ad39e-f78f-4ee6-b71e-4a3c7c2cbdf3",
   "metadata": {},
   "outputs": [
    {
     "data": {
      "text/html": [
       "<div>\n",
       "<style scoped>\n",
       "    .dataframe tbody tr th:only-of-type {\n",
       "        vertical-align: middle;\n",
       "    }\n",
       "\n",
       "    .dataframe tbody tr th {\n",
       "        vertical-align: top;\n",
       "    }\n",
       "\n",
       "    .dataframe thead th {\n",
       "        text-align: right;\n",
       "    }\n",
       "</style>\n",
       "<table border=\"1\" class=\"dataframe\">\n",
       "  <thead>\n",
       "    <tr style=\"text-align: right;\">\n",
       "      <th></th>\n",
       "      <th>druid</th>\n",
       "      <th>errors.empty_object</th>\n",
       "      <th>errors.missing_files</th>\n",
       "      <th>errors.dupes</th>\n",
       "    </tr>\n",
       "  </thead>\n",
       "  <tbody>\n",
       "    <tr>\n",
       "      <th>1</th>\n",
       "      <td>druid:xk191tr8945</td>\n",
       "      <td>True</td>\n",
       "      <td>True</td>\n",
       "      <td>NaN</td>\n",
       "    </tr>\n",
       "  </tbody>\n",
       "</table>\n",
       "</div>"
      ],
      "text/plain": [
       "               druid errors.empty_object errors.missing_files errors.dupes\n",
       "1  druid:xk191tr8945                True                 True          NaN"
      ]
     },
     "execution_count": 146,
     "metadata": {},
     "output_type": "execute_result"
    }
   ],
   "source": [
    "errors."
   ]
  },
  {
   "cell_type": "code",
   "execution_count": null,
   "id": "eff51aa0-83ac-4c17-9c8f-05e7a0c74c1e",
   "metadata": {},
   "outputs": [],
   "source": []
  }
 ],
 "metadata": {
  "kernelspec": {
   "display_name": "Python 3 (ipykernel)",
   "language": "python",
   "name": "python3"
  },
  "language_info": {
   "codemirror_mode": {
    "name": "ipython",
    "version": 3
   },
   "file_extension": ".py",
   "mimetype": "text/x-python",
   "name": "python",
   "nbconvert_exporter": "python",
   "pygments_lexer": "ipython3",
   "version": "3.9.7"
  }
 },
 "nbformat": 4,
 "nbformat_minor": 5
}
