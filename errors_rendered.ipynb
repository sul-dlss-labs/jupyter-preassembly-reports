{
 "cells": [
  {
   "cell_type": "code",
   "execution_count": 2,
   "id": "7ae66a54-24fe-4635-a895-5d5420782f15",
   "metadata": {},
   "outputs": [],
   "source": [
    "import json"
   ]
  },
  {
   "cell_type": "code",
   "execution_count": 3,
   "id": "b555fc35-466c-4d86-af0d-1e246b14707a",
   "metadata": {},
   "outputs": [],
   "source": [
    "with open(\"/Users/ndushay/jupyter-notebooks/discovery reports/discovery_report_2errors_outof_6.json\", 'r') as f:\n",
    "    data = json.load(f)"
   ]
  },
  {
   "cell_type": "code",
   "execution_count": 16,
   "id": "a1b0b7b1-5d55-4961-b97d-31f1637d0fc4",
   "metadata": {
    "tags": []
   },
   "outputs": [
    {
     "name": "stdout",
     "output_type": "stream",
     "text": [
      "{'rows': [{'druid': 'druid:rx212yq2993', 'errors': {}, 'counts': {'total_size': 1530211, 'mimetypes': {'image/jpeg': 2}, 'filename_no_extension': 0}}, {'druid': 'druid:xk191tr8945', 'errors': {'empty_object': True, 'missing_files': True}, 'counts': {'total_size': 0, 'mimetypes': {}, 'filename_no_extension': 0}}, {'druid': 'druid:sz766yw0944', 'errors': {}, 'counts': {'total_size': 1448949, 'mimetypes': {'image/jpeg': 2}, 'filename_no_extension': 0}}, {'druid': 'druid:sh143xn6642', 'errors': {}, 'counts': {'total_size': 3308587, 'mimetypes': {'image/jpeg': 2}, 'filename_no_extension': 0}}, {'druid': 'druid:xg322sp9596', 'errors': {'dupes': True}, 'counts': {'total_size': 6953821, 'mimetypes': {'image/jpeg': 6}, 'filename_no_extension': 0}}, {'druid': 'druid:gn012km8355', 'errors': {}, 'counts': {'total_size': 2975415, 'mimetypes': {'image/jpeg': 2}, 'filename_no_extension': 0}}], 'summary': {'objects_with_error': 2, 'mimetypes': {'image/jpeg': 1320}, 'start_time': '2021-10-18 12:03:45 -0700', 'total_size': 1108060670}}\n"
     ]
    }
   ],
   "source": [
    "print(data)"
   ]
  },
  {
   "cell_type": "code",
   "execution_count": 10,
   "id": "9018dbf0-d470-422a-a7c9-66f036f7fb6f",
   "metadata": {},
   "outputs": [],
   "source": [
    "summary = data.pop('summary')"
   ]
  },
  {
   "cell_type": "code",
   "execution_count": 11,
   "id": "579c9095-df95-4790-a0ff-e8ae4b3b90a4",
   "metadata": {},
   "outputs": [
    {
     "data": {
      "text/plain": [
       "{'objects_with_error': 2,\n",
       " 'mimetypes': {'image/jpeg': 1320},\n",
       " 'start_time': '2021-10-18 12:03:45 -0700',\n",
       " 'total_size': 1108060670}"
      ]
     },
     "execution_count": 11,
     "metadata": {},
     "output_type": "execute_result"
    }
   ],
   "source": [
    "summary"
   ]
  },
  {
   "cell_type": "code",
   "execution_count": 12,
   "id": "d723e25b-2037-4af4-a641-9d290a66d24d",
   "metadata": {},
   "outputs": [],
   "source": [
    "rows = data.pop('rows')"
   ]
  },
  {
   "cell_type": "code",
   "execution_count": 13,
   "id": "c209d1ef-e74d-47da-893d-b745c9743fa7",
   "metadata": {},
   "outputs": [
    {
     "data": {
      "text/plain": [
       "[{'druid': 'druid:rx212yq2993',\n",
       "  'errors': {},\n",
       "  'counts': {'total_size': 1530211,\n",
       "   'mimetypes': {'image/jpeg': 2},\n",
       "   'filename_no_extension': 0}},\n",
       " {'druid': 'druid:xk191tr8945',\n",
       "  'errors': {'empty_object': True, 'missing_files': True},\n",
       "  'counts': {'total_size': 0, 'mimetypes': {}, 'filename_no_extension': 0}},\n",
       " {'druid': 'druid:sz766yw0944',\n",
       "  'errors': {},\n",
       "  'counts': {'total_size': 1448949,\n",
       "   'mimetypes': {'image/jpeg': 2},\n",
       "   'filename_no_extension': 0}},\n",
       " {'druid': 'druid:sh143xn6642',\n",
       "  'errors': {},\n",
       "  'counts': {'total_size': 3308587,\n",
       "   'mimetypes': {'image/jpeg': 2},\n",
       "   'filename_no_extension': 0}},\n",
       " {'druid': 'druid:xg322sp9596',\n",
       "  'errors': {'dupes': True},\n",
       "  'counts': {'total_size': 6953821,\n",
       "   'mimetypes': {'image/jpeg': 6},\n",
       "   'filename_no_extension': 0}},\n",
       " {'druid': 'druid:gn012km8355',\n",
       "  'errors': {},\n",
       "  'counts': {'total_size': 2975415,\n",
       "   'mimetypes': {'image/jpeg': 2},\n",
       "   'filename_no_extension': 0}}]"
      ]
     },
     "execution_count": 13,
     "metadata": {},
     "output_type": "execute_result"
    }
   ],
   "source": [
    "rows"
   ]
  },
  {
   "cell_type": "code",
   "execution_count": 14,
   "id": "7124e5f9-0502-418d-8b06-24d41fd09768",
   "metadata": {},
   "outputs": [
    {
     "data": {
      "text/plain": [
       "{}"
      ]
     },
     "execution_count": 14,
     "metadata": {},
     "output_type": "execute_result"
    }
   ],
   "source": [
    "data"
   ]
  },
  {
   "cell_type": "code",
   "execution_count": null,
   "id": "74b54862-e0f7-4a46-90c1-439b11e817de",
   "metadata": {},
   "outputs": [],
   "source": []
  },
  {
   "cell_type": "code",
   "execution_count": null,
   "id": "4f6ae36d-7ca2-4663-a357-6ea81121d638",
   "metadata": {},
   "outputs": [],
   "source": []
  },
  {
   "cell_type": "code",
   "execution_count": null,
   "id": "53ae0320-afb2-4183-bcca-f05ae01ffede",
   "metadata": {},
   "outputs": [],
   "source": [
    "import pandas as pd"
   ]
  },
  {
   "cell_type": "code",
   "execution_count": 9,
   "id": "3fe00952-3a17-4d4b-ad58-6ea7e3a538b5",
   "metadata": {},
   "outputs": [
    {
     "ename": "ValueError",
     "evalue": "Mixing dicts with non-Series may lead to ambiguous ordering.",
     "output_type": "error",
     "traceback": [
      "\u001b[0;31m---------------------------------------------------------------------------\u001b[0m",
      "\u001b[0;31mValueError\u001b[0m                                Traceback (most recent call last)",
      "\u001b[0;32m/var/folders/wl/slny2d3n77d3gc1hd_j912hr0000gq/T/ipykernel_62483/1923510999.py\u001b[0m in \u001b[0;36m<module>\u001b[0;34m\u001b[0m\n\u001b[0;32m----> 1\u001b[0;31m \u001b[0mdf\u001b[0m \u001b[0;34m=\u001b[0m \u001b[0mpd\u001b[0m\u001b[0;34m.\u001b[0m\u001b[0mDataFrame\u001b[0m\u001b[0;34m(\u001b[0m\u001b[0mdata\u001b[0m\u001b[0;34m)\u001b[0m\u001b[0;34m\u001b[0m\u001b[0;34m\u001b[0m\u001b[0m\n\u001b[0m",
      "\u001b[0;32m/usr/local/lib/python3.9/site-packages/pandas/core/frame.py\u001b[0m in \u001b[0;36m__init__\u001b[0;34m(self, data, index, columns, dtype, copy)\u001b[0m\n\u001b[1;32m    612\u001b[0m         \u001b[0;32melif\u001b[0m \u001b[0misinstance\u001b[0m\u001b[0;34m(\u001b[0m\u001b[0mdata\u001b[0m\u001b[0;34m,\u001b[0m \u001b[0mdict\u001b[0m\u001b[0;34m)\u001b[0m\u001b[0;34m:\u001b[0m\u001b[0;34m\u001b[0m\u001b[0;34m\u001b[0m\u001b[0m\n\u001b[1;32m    613\u001b[0m             \u001b[0;31m# GH#38939 de facto copy defaults to False only in non-dict cases\u001b[0m\u001b[0;34m\u001b[0m\u001b[0;34m\u001b[0m\u001b[0m\n\u001b[0;32m--> 614\u001b[0;31m             \u001b[0mmgr\u001b[0m \u001b[0;34m=\u001b[0m \u001b[0mdict_to_mgr\u001b[0m\u001b[0;34m(\u001b[0m\u001b[0mdata\u001b[0m\u001b[0;34m,\u001b[0m \u001b[0mindex\u001b[0m\u001b[0;34m,\u001b[0m \u001b[0mcolumns\u001b[0m\u001b[0;34m,\u001b[0m \u001b[0mdtype\u001b[0m\u001b[0;34m=\u001b[0m\u001b[0mdtype\u001b[0m\u001b[0;34m,\u001b[0m \u001b[0mcopy\u001b[0m\u001b[0;34m=\u001b[0m\u001b[0mcopy\u001b[0m\u001b[0;34m,\u001b[0m \u001b[0mtyp\u001b[0m\u001b[0;34m=\u001b[0m\u001b[0mmanager\u001b[0m\u001b[0;34m)\u001b[0m\u001b[0;34m\u001b[0m\u001b[0;34m\u001b[0m\u001b[0m\n\u001b[0m\u001b[1;32m    615\u001b[0m         \u001b[0;32melif\u001b[0m \u001b[0misinstance\u001b[0m\u001b[0;34m(\u001b[0m\u001b[0mdata\u001b[0m\u001b[0;34m,\u001b[0m \u001b[0mma\u001b[0m\u001b[0;34m.\u001b[0m\u001b[0mMaskedArray\u001b[0m\u001b[0;34m)\u001b[0m\u001b[0;34m:\u001b[0m\u001b[0;34m\u001b[0m\u001b[0;34m\u001b[0m\u001b[0m\n\u001b[1;32m    616\u001b[0m             \u001b[0;32mimport\u001b[0m \u001b[0mnumpy\u001b[0m\u001b[0;34m.\u001b[0m\u001b[0mma\u001b[0m\u001b[0;34m.\u001b[0m\u001b[0mmrecords\u001b[0m \u001b[0;32mas\u001b[0m \u001b[0mmrecords\u001b[0m\u001b[0;34m\u001b[0m\u001b[0;34m\u001b[0m\u001b[0m\n",
      "\u001b[0;32m/usr/local/lib/python3.9/site-packages/pandas/core/internals/construction.py\u001b[0m in \u001b[0;36mdict_to_mgr\u001b[0;34m(data, index, columns, dtype, typ, copy)\u001b[0m\n\u001b[1;32m    462\u001b[0m         \u001b[0;31m# TODO: can we get rid of the dt64tz special case above?\u001b[0m\u001b[0;34m\u001b[0m\u001b[0;34m\u001b[0m\u001b[0m\n\u001b[1;32m    463\u001b[0m \u001b[0;34m\u001b[0m\u001b[0m\n\u001b[0;32m--> 464\u001b[0;31m     return arrays_to_mgr(\n\u001b[0m\u001b[1;32m    465\u001b[0m         \u001b[0marrays\u001b[0m\u001b[0;34m,\u001b[0m \u001b[0mdata_names\u001b[0m\u001b[0;34m,\u001b[0m \u001b[0mindex\u001b[0m\u001b[0;34m,\u001b[0m \u001b[0mcolumns\u001b[0m\u001b[0;34m,\u001b[0m \u001b[0mdtype\u001b[0m\u001b[0;34m=\u001b[0m\u001b[0mdtype\u001b[0m\u001b[0;34m,\u001b[0m \u001b[0mtyp\u001b[0m\u001b[0;34m=\u001b[0m\u001b[0mtyp\u001b[0m\u001b[0;34m,\u001b[0m \u001b[0mconsolidate\u001b[0m\u001b[0;34m=\u001b[0m\u001b[0mcopy\u001b[0m\u001b[0;34m\u001b[0m\u001b[0;34m\u001b[0m\u001b[0m\n\u001b[1;32m    466\u001b[0m     )\n",
      "\u001b[0;32m/usr/local/lib/python3.9/site-packages/pandas/core/internals/construction.py\u001b[0m in \u001b[0;36marrays_to_mgr\u001b[0;34m(arrays, arr_names, index, columns, dtype, verify_integrity, typ, consolidate)\u001b[0m\n\u001b[1;32m    117\u001b[0m         \u001b[0;31m# figure out the index, if necessary\u001b[0m\u001b[0;34m\u001b[0m\u001b[0;34m\u001b[0m\u001b[0m\n\u001b[1;32m    118\u001b[0m         \u001b[0;32mif\u001b[0m \u001b[0mindex\u001b[0m \u001b[0;32mis\u001b[0m \u001b[0;32mNone\u001b[0m\u001b[0;34m:\u001b[0m\u001b[0;34m\u001b[0m\u001b[0;34m\u001b[0m\u001b[0m\n\u001b[0;32m--> 119\u001b[0;31m             \u001b[0mindex\u001b[0m \u001b[0;34m=\u001b[0m \u001b[0m_extract_index\u001b[0m\u001b[0;34m(\u001b[0m\u001b[0marrays\u001b[0m\u001b[0;34m)\u001b[0m\u001b[0;34m\u001b[0m\u001b[0;34m\u001b[0m\u001b[0m\n\u001b[0m\u001b[1;32m    120\u001b[0m         \u001b[0;32melse\u001b[0m\u001b[0;34m:\u001b[0m\u001b[0;34m\u001b[0m\u001b[0;34m\u001b[0m\u001b[0m\n\u001b[1;32m    121\u001b[0m             \u001b[0mindex\u001b[0m \u001b[0;34m=\u001b[0m \u001b[0mensure_index\u001b[0m\u001b[0;34m(\u001b[0m\u001b[0mindex\u001b[0m\u001b[0;34m)\u001b[0m\u001b[0;34m\u001b[0m\u001b[0;34m\u001b[0m\u001b[0m\n",
      "\u001b[0;32m/usr/local/lib/python3.9/site-packages/pandas/core/internals/construction.py\u001b[0m in \u001b[0;36m_extract_index\u001b[0;34m(data)\u001b[0m\n\u001b[1;32m    636\u001b[0m \u001b[0;34m\u001b[0m\u001b[0m\n\u001b[1;32m    637\u001b[0m             \u001b[0;32mif\u001b[0m \u001b[0mhave_dicts\u001b[0m\u001b[0;34m:\u001b[0m\u001b[0;34m\u001b[0m\u001b[0;34m\u001b[0m\u001b[0m\n\u001b[0;32m--> 638\u001b[0;31m                 raise ValueError(\n\u001b[0m\u001b[1;32m    639\u001b[0m                     \u001b[0;34m\"Mixing dicts with non-Series may lead to ambiguous ordering.\"\u001b[0m\u001b[0;34m\u001b[0m\u001b[0;34m\u001b[0m\u001b[0m\n\u001b[1;32m    640\u001b[0m                 )\n",
      "\u001b[0;31mValueError\u001b[0m: Mixing dicts with non-Series may lead to ambiguous ordering."
     ]
    }
   ],
   "source": [
    "df = pd.DataFrame(data)"
   ]
  },
  {
   "cell_type": "code",
   "execution_count": null,
   "id": "aabfdef4-0120-4a80-aea6-8bd2b57774fd",
   "metadata": {},
   "outputs": [],
   "source": []
  },
  {
   "cell_type": "code",
   "execution_count": 54,
   "id": "b60e918e-0133-4dd6-8e23-cf28f0a31dbf",
   "metadata": {},
   "outputs": [],
   "source": [
    "df = pd.read_json('/Users/ndushay/jupyter-notebooks/discovery reports/discovery_report_errors_2of6_no_summary.json')"
   ]
  },
  {
   "cell_type": "code",
   "execution_count": 50,
   "id": "ff296a36-18f1-4b1f-8d94-8b85e6358a12",
   "metadata": {},
   "outputs": [
    {
     "name": "stdout",
     "output_type": "stream",
     "text": [
      "                                                rows\n",
      "0  {'druid': 'druid:rx212yq2993', 'errors': {}, '...\n",
      "1  {'druid': 'druid:xk191tr8945', 'errors': {'emp...\n",
      "2  {'druid': 'druid:sz766yw0944', 'errors': {}, '...\n",
      "3  {'druid': 'druid:sh143xn6642', 'errors': {}, '...\n",
      "4  {'druid': 'druid:xg322sp9596', 'errors': {'dup...\n",
      "5  {'druid': 'druid:gn012km8355', 'errors': {}, '...\n"
     ]
    }
   ],
   "source": [
    "print(df)"
   ]
  },
  {
   "cell_type": "code",
   "execution_count": 51,
   "id": "0f022f33-7167-402a-ab3e-f896f36e3e96",
   "metadata": {},
   "outputs": [
    {
     "name": "stdout",
     "output_type": "stream",
     "text": [
      "<class 'pandas.core.frame.DataFrame'>\n",
      "RangeIndex: 6 entries, 0 to 5\n",
      "Data columns (total 1 columns):\n",
      " #   Column  Non-Null Count  Dtype \n",
      "---  ------  --------------  ----- \n",
      " 0   rows    6 non-null      object\n",
      "dtypes: object(1)\n",
      "memory usage: 176.0+ bytes\n",
      "None\n"
     ]
    }
   ],
   "source": [
    "print(df.info())"
   ]
  },
  {
   "cell_type": "code",
   "execution_count": 115,
   "id": "38555f9a-e9a7-46d8-aac6-856b35f0b5c9",
   "metadata": {},
   "outputs": [],
   "source": [
    "# Flatten data\n",
    "df_nested_list = pd.json_normalize(data, 'rows')"
   ]
  },
  {
   "cell_type": "code",
   "execution_count": 116,
   "id": "40dade92-ea95-43ec-ae48-9721e3e2b1dc",
   "metadata": {},
   "outputs": [
    {
     "name": "stdout",
     "output_type": "stream",
     "text": [
      "               druid  counts.total_size  counts.mimetypes.image/jpeg  \\\n",
      "0  druid:rx212yq2993            1530211                          2.0   \n",
      "1  druid:xk191tr8945                  0                          NaN   \n",
      "2  druid:sz766yw0944            1448949                          2.0   \n",
      "3  druid:sh143xn6642            3308587                          2.0   \n",
      "4  druid:xg322sp9596            6953821                          6.0   \n",
      "5  druid:gn012km8355            2975415                          2.0   \n",
      "\n",
      "   counts.filename_no_extension errors.empty_object errors.missing_files  \\\n",
      "0                             0                 NaN                  NaN   \n",
      "1                             0                True                 True   \n",
      "2                             0                 NaN                  NaN   \n",
      "3                             0                 NaN                  NaN   \n",
      "4                             0                 NaN                  NaN   \n",
      "5                             0                 NaN                  NaN   \n",
      "\n",
      "  errors.dupes  \n",
      "0          NaN  \n",
      "1          NaN  \n",
      "2          NaN  \n",
      "3          NaN  \n",
      "4         True  \n",
      "5          NaN  \n"
     ]
    }
   ],
   "source": [
    "print(df_nested_list)"
   ]
  },
  {
   "cell_type": "code",
   "execution_count": 117,
   "id": "b1e6d751-061a-4b44-b62a-0dae42b0e26c",
   "metadata": {},
   "outputs": [
    {
     "name": "stdout",
     "output_type": "stream",
     "text": [
      "               druid errors.empty_object errors.missing_files errors.dupes\n",
      "0  druid:rx212yq2993                 NaN                  NaN          NaN\n",
      "1  druid:xk191tr8945                True                 True          NaN\n",
      "2  druid:sz766yw0944                 NaN                  NaN          NaN\n",
      "3  druid:sh143xn6642                 NaN                  NaN          NaN\n",
      "4  druid:xg322sp9596                 NaN                  NaN         True\n",
      "5  druid:gn012km8355                 NaN                  NaN          NaN\n"
     ]
    }
   ],
   "source": [
    "print(df_nested_list.iloc[0:6, [0, 4, 5, 6]])"
   ]
  },
  {
   "cell_type": "code",
   "execution_count": 118,
   "id": "dfc361d7-6093-4a64-8362-ef223d11312f",
   "metadata": {},
   "outputs": [],
   "source": [
    "df_simpler = df_nested_list.iloc[0:6, [0, 4, 5, 6]]"
   ]
  },
  {
   "cell_type": "code",
   "execution_count": 146,
   "id": "709ad39e-f78f-4ee6-b71e-4a3c7c2cbdf3",
   "metadata": {},
   "outputs": [
    {
     "data": {
      "text/html": [
       "<div>\n",
       "<style scoped>\n",
       "    .dataframe tbody tr th:only-of-type {\n",
       "        vertical-align: middle;\n",
       "    }\n",
       "\n",
       "    .dataframe tbody tr th {\n",
       "        vertical-align: top;\n",
       "    }\n",
       "\n",
       "    .dataframe thead th {\n",
       "        text-align: right;\n",
       "    }\n",
       "</style>\n",
       "<table border=\"1\" class=\"dataframe\">\n",
       "  <thead>\n",
       "    <tr style=\"text-align: right;\">\n",
       "      <th></th>\n",
       "      <th>druid</th>\n",
       "      <th>errors.empty_object</th>\n",
       "      <th>errors.missing_files</th>\n",
       "      <th>errors.dupes</th>\n",
       "    </tr>\n",
       "  </thead>\n",
       "  <tbody>\n",
       "    <tr>\n",
       "      <th>1</th>\n",
       "      <td>druid:xk191tr8945</td>\n",
       "      <td>True</td>\n",
       "      <td>True</td>\n",
       "      <td>NaN</td>\n",
       "    </tr>\n",
       "  </tbody>\n",
       "</table>\n",
       "</div>"
      ],
      "text/plain": [
       "               druid errors.empty_object errors.missing_files errors.dupes\n",
       "1  druid:xk191tr8945                True                 True          NaN"
      ]
     },
     "execution_count": 146,
     "metadata": {},
     "output_type": "execute_result"
    }
   ],
   "source": [
    "df_simpler.loc[lambda df_simpler: df_simpler['errors.empty_object']==True].head()"
   ]
  },
  {
   "cell_type": "code",
   "execution_count": null,
   "id": "eff51aa0-83ac-4c17-9c8f-05e7a0c74c1e",
   "metadata": {},
   "outputs": [],
   "source": []
  }
 ],
 "metadata": {
  "kernelspec": {
   "display_name": "Python 3 (ipykernel)",
   "language": "python",
   "name": "python3"
  },
  "language_info": {
   "codemirror_mode": {
    "name": "ipython",
    "version": 3
   },
   "file_extension": ".py",
   "mimetype": "text/x-python",
   "name": "python",
   "nbconvert_exporter": "python",
   "pygments_lexer": "ipython3",
   "version": "3.9.7"
  }
 },
 "nbformat": 4,
 "nbformat_minor": 5
}
