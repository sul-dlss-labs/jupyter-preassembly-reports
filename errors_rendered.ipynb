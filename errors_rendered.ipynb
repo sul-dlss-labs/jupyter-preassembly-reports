{
  "nbformat": 4,
  "nbformat_minor": 5,
  "metadata": {
    "kernelspec": {
      "display_name": "Python 3 (ipykernel)",
      "language": "python",
      "name": "python3"
    },
    "language_info": {
      "codemirror_mode": {
        "name": "ipython",
        "version": 3
      },
      "file_extension": ".py",
      "mimetype": "text/x-python",
      "name": "python",
      "nbconvert_exporter": "python",
      "pygments_lexer": "ipython3",
      "version": "3.9.7"
    },
    "colab": {
      "name": "errors_rendered.ipynb",
      "provenance": [],
      "collapsed_sections": []
    }
  },
  "cells": [
    {
      "cell_type": "markdown",
      "metadata": {
        "tags": [],
        "id": "d92fa48d-1110-4528-b631-0b64fc2d6e21"
      },
      "source": [
        "# Discovery Report Helper (Beta)\n",
        "\n",
        "This is a Jupyter Notebook to help parse Discovery Reports produced by the Preassembly app at https://sul-preassembly-prod.stanford.edu.  In particular, given a discovery report, it will:\n",
        "- find any errors detected by the preassembly app and show you the druids affected.\n",
        "- show you the summary information from the discovery report.\n",
        "\n",
        "There is an explanation of the different errors that can be detected by Preassembly at  https://github.com/sul-dlss/pre-assembly/wiki/Explanation-of-possible-errors-in-a-discovery-report\n",
        "\n",
        "Note that this is Naomi's first Jupyter notebook, first use of Google Colaboratory hosting site, and first use of python, so there may be some glitches."
      ],
      "id": "d92fa48d-1110-4528-b631-0b64fc2d6e21"
    },
    {
      "cell_type": "markdown",
      "metadata": {
        "id": "0225c06a-61ea-4b95-b368-ff4ec95b58a4"
      },
      "source": [
        "## 1. Download Your Discovery Report from Preassembly\n",
        "\n",
        "Download your discovery report from the preassembly application to a location you can easily access and easily upload from."
      ],
      "id": "0225c06a-61ea-4b95-b368-ff4ec95b58a4"
    },
    {
      "cell_type": "markdown",
      "metadata": {
        "tags": [],
        "id": "bfcf0695-ddca-49de-b3bc-fdd1fde1c7dc"
      },
      "source": [
        "## 2.  Upload your Discovery Report\n",
        "\n",
        "You will need to upload it to the `discovery_reports` folder here and ensure it has a unique name, preferably ending in `.json` just as you received it.  You can keep the name given by the preassembly app, or you can choose a different name, such as `naomi_boardgames.json`\n",
        "\n",
        "Click on the folder in the far left navigation bar to see the `discovery_reports` folder.  Open it, and then click the \n",
        "arrow with the line under it to upload your file to the folder.\n",
        "\n",
        "![image.png](attachment:89b3a5fe-4847-44b6-bfb3-13e2cd68ba91.png)"
      ],
      "id": "bfcf0695-ddca-49de-b3bc-fdd1fde1c7dc"
    },
    {
      "cell_type": "markdown",
      "metadata": {
        "id": "8ddda395-73c1-4830-bfbb-3c56df9d59b3"
      },
      "source": [
        "### 2.1  Ensure Your Discovery Report is Parseable JSON\n",
        "\n",
        "Once your file is uploaded, you can double click on it and it will open a new tab here in the notebook.  If the json parses cleanly, it will look something like this:\n",
        "\n",
        "![image.png](attachment:9a621d9a-df6c-448a-8590-286d280c35cc.png)"
      ],
      "id": "8ddda395-73c1-4830-bfbb-3c56df9d59b3"
    },
    {
      "cell_type": "markdown",
      "metadata": {
        "id": "5cd55032-29f0-4f1b-87a3-21b78380ed07"
      },
      "source": [
        "## 3. Put the Name of Your Report In the Following Cell\n",
        "\n",
        "In the cell below, paste your discovery report name to replace `example.json`"
      ],
      "id": "5cd55032-29f0-4f1b-87a3-21b78380ed07"
    },
    {
      "cell_type": "code",
      "metadata": {
        "id": "6e3e89d6-09c1-41a2-91b7-7d535053bbac"
      },
      "source": [
        "# put your discovery report file name inside the quotes on the right side of the =\n",
        "file_name = \"example.json\""
      ],
      "id": "6e3e89d6-09c1-41a2-91b7-7d535053bbac",
      "execution_count": null,
      "outputs": []
    },
    {
      "cell_type": "markdown",
      "metadata": {
        "id": "49022427-a076-43a5-8859-8f4a8870f891"
      },
      "source": [
        "## 4. Get the Summary from your Discovery Report\n",
        "\n",
        "Run the code in the following cell. It should output the summary information in a yucky format just below the cell with python code in it.\n",
        "\n",
        "You MAY need to remove `discovery_reports/` from inside the quotes to make this work."
      ],
      "id": "49022427-a076-43a5-8859-8f4a8870f891"
    },
    {
      "cell_type": "code",
      "metadata": {
        "id": "b7803bae-b036-4ba8-b444-84bc6815ede3",
        "outputId": "dab8caf1-5148-4be6-e21a-f24fc19011a7"
      },
      "source": [
        "import json\n",
        "with open(\"./discovery_reports/\" + file_name, 'r') as f:\n",
        "    data = json.load(f)\n",
        "summary = data.pop('summary')\n",
        "summary['total number of objects'] = len(items)\n",
        "summary"
      ],
      "id": "b7803bae-b036-4ba8-b444-84bc6815ede3",
      "execution_count": null,
      "outputs": [
        {
          "data": {
            "text/plain": [
              "{'objects_with_error': 3,\n",
              " 'mimetypes': {'image/jpeg': 1320},\n",
              " 'start_time': '2021-10-18 12:03:45 -0700',\n",
              " 'total_size': 1108060670,\n",
              " 'total number of objects': 7}"
            ]
          },
          "execution_count": 41,
          "metadata": {},
          "output_type": "execute_result"
        }
      ]
    },
    {
      "cell_type": "markdown",
      "metadata": {
        "id": "cb63a244-9edb-4ba2-ab9b-320f9bab4334"
      },
      "source": [
        "## 5. Get the Errors with Druids from your Discovery Report\n",
        "\n",
        "Run the code in the following cell.  It should output a table with a row for each error occuring in the report, and a column for each druid implicated.\n",
        "\n",
        "Here you may also need to remove `discovery_reports/` from inside the quotes."
      ],
      "id": "cb63a244-9edb-4ba2-ab9b-320f9bab4334"
    },
    {
      "cell_type": "code",
      "metadata": {
        "id": "1a182ccb-48b4-4592-9210-2f4a93a1af25",
        "outputId": "46963a8f-d641-40bc-e855-1ba16fcc2881"
      },
      "source": [
        "# Get the druids for each possible error\n",
        "import pandas as pd\n",
        "import numpy as np\n",
        "\n",
        "# read and parse the json report and load it into a pandas DataFrame\n",
        "with open(\"./discovery_reports/\" + file_name, 'r') as f:\n",
        "    dfItems = pd.json_normalize(json.load(f), 'rows')\n",
        "dfItems.set_index('druid', inplace=True)\n",
        "\n",
        "# create a new pandas DataFrame where each row is an error that actually occurs in the discovery report.\n",
        "possible_errors = [\n",
        "    'dor_connection_error', \n",
        "    'dupes', \n",
        "    'empty_files', \n",
        "    'empty_object', \n",
        "    'filename_no_extension',  \n",
        "    'item_not_registered', \n",
        "    'missing_files',\n",
        "    'empty_manifest',\n",
        "    'files_found_mismatch',\n",
        "    'missing_media_container_name_or_manifest'\n",
        "     ]\n",
        "errs2druids_dict = {}\n",
        "for error in possible_errors:\n",
        "    error_column = \"errors.% s\" % error\n",
        "    if ((error_column) in dfItems.columns):\n",
        "        error_druids = (dfItems[(dfItems[error_column] == True)]).index.tolist()\n",
        "        errs2druids_dict[error] = error_druids\n",
        "# Ensure all the errors have the same number of values\n",
        "dfErrors_raw = pd.DataFrame(dict([ (k,pd.Series(v)) for k,v in errs2druids_dict.items() ]))\n",
        "# Replace empty values with empty string AND\n",
        "# Make the errors the index (rows) and the druids the columns\n",
        "dfErrors_better = dfErrors.replace(np.nan, '', regex=True).transpose()\n",
        "# adjust the output style for DataFrames (monospaced font)\n",
        "dfErrors_better.style.set_table_attributes('style=\"font-family: Monaco; font-size: 14px\"')"
      ],
      "id": "1a182ccb-48b4-4592-9210-2f4a93a1af25",
      "execution_count": null,
      "outputs": [
        {
          "data": {
            "text/html": [
              "<style type=\"text/css\">\n",
              "</style>\n",
              "<table id=\"T_2b770_\" style=\"font-family: Monaco; font-size: 14px\">\n",
              "  <thead>\n",
              "    <tr>\n",
              "      <th class=\"blank level0\" >&nbsp;</th>\n",
              "      <th class=\"col_heading level0 col0\" >0</th>\n",
              "      <th class=\"col_heading level0 col1\" >1</th>\n",
              "    </tr>\n",
              "  </thead>\n",
              "  <tbody>\n",
              "    <tr>\n",
              "      <th id=\"T_2b770_level0_row0\" class=\"row_heading level0 row0\" >dupes</th>\n",
              "      <td id=\"T_2b770_row0_col0\" class=\"data row0 col0\" >druid:xg322sp9596</td>\n",
              "      <td id=\"T_2b770_row0_col1\" class=\"data row0 col1\" ></td>\n",
              "    </tr>\n",
              "    <tr>\n",
              "      <th id=\"T_2b770_level0_row1\" class=\"row_heading level0 row1\" >empty_object</th>\n",
              "      <td id=\"T_2b770_row1_col0\" class=\"data row1 col0\" >druid:xk191tr8945</td>\n",
              "      <td id=\"T_2b770_row1_col1\" class=\"data row1 col1\" ></td>\n",
              "    </tr>\n",
              "    <tr>\n",
              "      <th id=\"T_2b770_level0_row2\" class=\"row_heading level0 row2\" >missing_files</th>\n",
              "      <td id=\"T_2b770_row2_col0\" class=\"data row2 col0\" >druid:xk191tr8945</td>\n",
              "      <td id=\"T_2b770_row2_col1\" class=\"data row2 col1\" >druid:oo000oo0000</td>\n",
              "    </tr>\n",
              "  </tbody>\n",
              "</table>\n"
            ],
            "text/plain": [
              "<pandas.io.formats.style.Styler at 0x123ae05e0>"
            ]
          },
          "execution_count": 82,
          "metadata": {},
          "output_type": "execute_result"
        }
      ]
    },
    {
      "cell_type": "markdown",
      "metadata": {
        "id": "00f29c3c-9aa1-413e-9a09-85298710a3bb"
      },
      "source": [
        "### 5.1 Explanation of Errors\n",
        "\n",
        "There is an explanation of the different errors that can be detected by Preassembly at https://github.com/sul-dlss/pre-assembly/wiki/Explanation-of-possible-errors-in-a-discovery-report"
      ],
      "id": "00f29c3c-9aa1-413e-9a09-85298710a3bb"
    }
  ]
}